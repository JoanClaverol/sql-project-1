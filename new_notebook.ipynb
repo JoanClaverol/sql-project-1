{
 "cells": [
  {
   "cell_type": "markdown",
   "id": "e7a8eb58-8baa-413e-a774-d55389f4a4cc",
   "metadata": {},
   "source": [
    "# Title\n",
    "\n",
    "Whatever text\n",
    "\n",
    "* Hi, I am a bullet point"
   ]
  },
  {
   "cell_type": "code",
   "execution_count": 1,
   "id": "f1f2cd51-8d7b-46ca-8d33-55f15b8bb9ca",
   "metadata": {},
   "outputs": [
    {
     "name": "stdout",
     "output_type": "stream",
     "text": [
      "Hello everyone\n"
     ]
    }
   ],
   "source": [
    "print('Hello everyone')"
   ]
  },
  {
   "cell_type": "code",
   "execution_count": null,
   "id": "5395edaf-29f8-40e0-95eb-562af3ac7094",
   "metadata": {},
   "outputs": [],
   "source": []
  },
  {
   "cell_type": "code",
   "execution_count": 2,
   "id": "0a37ead4-6e0c-4281-b514-4bca9190e0ae",
   "metadata": {},
   "outputs": [],
   "source": [
    "import pandas as pd"
   ]
  },
  {
   "cell_type": "code",
   "execution_count": 4,
   "id": "58d57ae8-acf5-4e15-bece-79f1961a91d6",
   "metadata": {},
   "outputs": [
    {
     "data": {
      "text/html": [
       "<div>\n",
       "<style scoped>\n",
       "    .dataframe tbody tr th:only-of-type {\n",
       "        vertical-align: middle;\n",
       "    }\n",
       "\n",
       "    .dataframe tbody tr th {\n",
       "        vertical-align: top;\n",
       "    }\n",
       "\n",
       "    .dataframe thead th {\n",
       "        text-align: right;\n",
       "    }\n",
       "</style>\n",
       "<table border=\"1\" class=\"dataframe\">\n",
       "  <thead>\n",
       "    <tr style=\"text-align: right;\">\n",
       "      <th></th>\n",
       "      <th>customer_id</th>\n",
       "      <th>customer_zip_code_prefix</th>\n",
       "    </tr>\n",
       "  </thead>\n",
       "  <tbody>\n",
       "    <tr>\n",
       "      <th>0</th>\n",
       "      <td>7ae2a9337aa4bc799723511faa1d6830</td>\n",
       "      <td>1003</td>\n",
       "    </tr>\n",
       "    <tr>\n",
       "      <th>1</th>\n",
       "      <td>a09edf8c1e842e94805a206b3d73eed5</td>\n",
       "      <td>1004</td>\n",
       "    </tr>\n",
       "    <tr>\n",
       "      <th>2</th>\n",
       "      <td>ee9b73e88afb4904ee2322cfc89cf638</td>\n",
       "      <td>1004</td>\n",
       "    </tr>\n",
       "    <tr>\n",
       "      <th>3</th>\n",
       "      <td>15d7dbcd027b5b24866db33e2b819021</td>\n",
       "      <td>1005</td>\n",
       "    </tr>\n",
       "    <tr>\n",
       "      <th>4</th>\n",
       "      <td>5a8b64ee6ccdae09ea823e6aa00e9517</td>\n",
       "      <td>1005</td>\n",
       "    </tr>\n",
       "    <tr>\n",
       "      <th>...</th>\n",
       "      <td>...</td>\n",
       "      <td>...</td>\n",
       "    </tr>\n",
       "    <tr>\n",
       "      <th>99436</th>\n",
       "      <td>f93bb6c70a7306d18a24f77f1889916d</td>\n",
       "      <td>99965</td>\n",
       "    </tr>\n",
       "    <tr>\n",
       "      <th>99437</th>\n",
       "      <td>3ab8bc00f8740d54afc4c771fb6c7f69</td>\n",
       "      <td>99970</td>\n",
       "    </tr>\n",
       "    <tr>\n",
       "      <th>99438</th>\n",
       "      <td>657ba09c6edfbbc09f6054f541ec1f90</td>\n",
       "      <td>99980</td>\n",
       "    </tr>\n",
       "    <tr>\n",
       "      <th>99439</th>\n",
       "      <td>964b34423c822e9bd9831635ccc83db2</td>\n",
       "      <td>99980</td>\n",
       "    </tr>\n",
       "    <tr>\n",
       "      <th>99440</th>\n",
       "      <td>f04c3f6e20a2a4318d97d7cec1d27bbf</td>\n",
       "      <td>99990</td>\n",
       "    </tr>\n",
       "  </tbody>\n",
       "</table>\n",
       "<p>99441 rows × 2 columns</p>\n",
       "</div>"
      ],
      "text/plain": [
       "                            customer_id  customer_zip_code_prefix\n",
       "0      7ae2a9337aa4bc799723511faa1d6830                      1003\n",
       "1      a09edf8c1e842e94805a206b3d73eed5                      1004\n",
       "2      ee9b73e88afb4904ee2322cfc89cf638                      1004\n",
       "3      15d7dbcd027b5b24866db33e2b819021                      1005\n",
       "4      5a8b64ee6ccdae09ea823e6aa00e9517                      1005\n",
       "...                                 ...                       ...\n",
       "99436  f93bb6c70a7306d18a24f77f1889916d                     99965\n",
       "99437  3ab8bc00f8740d54afc4c771fb6c7f69                     99970\n",
       "99438  657ba09c6edfbbc09f6054f541ec1f90                     99980\n",
       "99439  964b34423c822e9bd9831635ccc83db2                     99980\n",
       "99440  f04c3f6e20a2a4318d97d7cec1d27bbf                     99990\n",
       "\n",
       "[99441 rows x 2 columns]"
      ]
     },
     "execution_count": 4,
     "metadata": {},
     "output_type": "execute_result"
    }
   ],
   "source": [
    "pd.read_csv('./magist/data/csv/customers.csv', sep=';')"
   ]
  }
 ],
 "metadata": {
  "kernelspec": {
   "display_name": "Python 3",
   "language": "python",
   "name": "python3"
  },
  "language_info": {
   "codemirror_mode": {
    "name": "ipython",
    "version": 3
   },
   "file_extension": ".py",
   "mimetype": "text/x-python",
   "name": "python",
   "nbconvert_exporter": "python",
   "pygments_lexer": "ipython3",
   "version": "3.8.8"
  }
 },
 "nbformat": 4,
 "nbformat_minor": 5
}
